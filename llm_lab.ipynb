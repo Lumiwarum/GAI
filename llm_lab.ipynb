{
  "cells": [
    {
      "cell_type": "markdown",
      "metadata": {
        "id": "73JHBwym-IfY"
      },
      "source": [
        "## Week 6 : Large Language Models\n",
        "```\n",
        "- Generative Artificial Intelligence (Fall semester 2023)\n",
        "- Professor: Muhammad Fahim\n",
        "- Teaching Assistant: Gcinizwe Dlamini\n",
        "```\n",
        "<hr>\n",
        "\n",
        "## Contents\n",
        "```\n",
        "1. Transformers (Implementing a transformer)\n",
        "2. Self-Attention\n",
        "3. Multi-headed attention\n",
        "4. Positional Encoding\n",
        "\n",
        "```\n",
        "\n",
        "<hr>\n"
      ]
    },
    {
      "cell_type": "markdown",
      "metadata": {
        "id": "ivBBW705o6JG"
      },
      "source": [
        "# Transformers\n",
        "\n",
        "* [Attention Is All You Need](https://arxiv.org/pdf/1706.03762.pdf) -- Original paper on attention\n",
        "\n",
        "![](http://jalammar.github.io/images/t/The_transformer_encoder_decoder_stack.png)\n"
      ]
    },
    {
      "cell_type": "code",
      "execution_count": null,
      "metadata": {
        "colab": {
          "base_uri": "https://localhost:8080/"
        },
        "id": "PkzgoQHBzCsS",
        "outputId": "b40c5bdc-a62e-4f3a-a205-ad00bc046795"
      },
      "outputs": [
        {
          "output_type": "execute_result",
          "data": {
            "text/plain": [
              "device(type='cuda')"
            ]
          },
          "metadata": {},
          "execution_count": 92
        }
      ],
      "source": [
        "import torch\n",
        "from torch import nn\n",
        "import torch.optim as optim\n",
        "import pandas as pd\n",
        "import numpy as np\n",
        "\n",
        "from torch.utils.data import DataLoader, TensorDataset\n",
        "\n",
        "device = torch.device('cuda' if torch.cuda.is_available() else 'cpu')\n",
        "device"
      ]
    },
    {
      "cell_type": "markdown",
      "metadata": {
        "id": "gqbWEqEG04nj"
      },
      "source": [
        "### Transformer Encoder with Pytorch"
      ]
    },
    {
      "cell_type": "code",
      "execution_count": null,
      "metadata": {
        "id": "bqvnRd4zASjV",
        "colab": {
          "base_uri": "https://localhost:8080/"
        },
        "outputId": "cb73ab04-04be-4b5a-e3c3-990ebb7296f1"
      },
      "outputs": [
        {
          "output_type": "stream",
          "name": "stderr",
          "text": [
            "/usr/local/lib/python3.10/dist-packages/torch/nn/modules/transformer.py:282: UserWarning: enable_nested_tensor is True, but self.use_nested_tensor is False because encoder_layer.self_attn.batch_first was not True(use batch_first for better inference performance)\n",
            "  warnings.warn(f\"enable_nested_tensor is True, but self.use_nested_tensor is False because {why_not_sparsity_fast_path}\")\n"
          ]
        }
      ],
      "source": [
        "encoder_layer = nn.TransformerEncoderLayer(d_model=512, nhead=32)\n",
        "transformer_encoder = nn.TransformerEncoder(encoder_layer, num_layers=3)"
      ]
    },
    {
      "cell_type": "code",
      "execution_count": null,
      "metadata": {
        "colab": {
          "base_uri": "https://localhost:8080/"
        },
        "id": "mmaOP-5BAiVG",
        "outputId": "349218bf-4ae1-4d6e-d198-f14b2fd265ce"
      },
      "outputs": [
        {
          "output_type": "execute_result",
          "data": {
            "text/plain": [
              "TransformerEncoderLayer(\n",
              "  (self_attn): MultiheadAttention(\n",
              "    (out_proj): NonDynamicallyQuantizableLinear(in_features=512, out_features=512, bias=True)\n",
              "  )\n",
              "  (linear1): Linear(in_features=512, out_features=2048, bias=True)\n",
              "  (dropout): Dropout(p=0.1, inplace=False)\n",
              "  (linear2): Linear(in_features=2048, out_features=512, bias=True)\n",
              "  (norm1): LayerNorm((512,), eps=1e-05, elementwise_affine=True)\n",
              "  (norm2): LayerNorm((512,), eps=1e-05, elementwise_affine=True)\n",
              "  (dropout1): Dropout(p=0.1, inplace=False)\n",
              "  (dropout2): Dropout(p=0.1, inplace=False)\n",
              ")"
            ]
          },
          "metadata": {},
          "execution_count": 94
        }
      ],
      "source": [
        "encoder_layer"
      ]
    },
    {
      "cell_type": "markdown",
      "metadata": {
        "id": "ETf4hBGZBmB6"
      },
      "source": [
        "## Encoder\n",
        "\n",
        "The encoder contains a self-attention layer – a layer that helps the encoder look at other words in the input sentence as it encodes a specific word. <br>\n",
        "**The main goal is to efficiently encode the data**\n",
        "\n",
        "![](http://jalammar.github.io/images/t/encoder_with_tensors.png)"
      ]
    },
    {
      "cell_type": "markdown",
      "metadata": {
        "id": "7MQv6sV8CHcb"
      },
      "source": [
        "## Self-Attention\n",
        "\n",
        "**Keep in mind : The main goal is to encode the data in a much more efficient way** In other words is to create meaningful embeddings<br>\n",
        "- As the model processes each word (each position in the input sequence), self attention allows it to look at other positions in the input sequence for clues that can help lead to a better encoding for this word.\n",
        "\n",
        "\n",
        "**How does Self-Attention work?**\n",
        "\n",
        "Steps:\n",
        "1. For each word, we create a **`Query`** vector, a **`Key`** vector, and a **`Value`** vector.\n",
        "  - What are the **`Query`** vector, a **`Key`** vector, and a **`Value`** vector? : They’re abstractions that are useful for calculating attention... They are a breakdown of the word embeddings\n",
        "2. Calculating self-attention score from **`Query`** **`Key`** vector.\n",
        "3. Divide the scores by 8 (This leads to having more stable gradients)\n",
        "4. Pass the result through a softmax operation (softmax score determines how much each word will be expressed at this position)\n",
        "5. Multiply each value vector by the softmax score\n",
        "6. Sum up the weighted value vectors"
      ]
    },
    {
      "cell_type": "markdown",
      "metadata": {
        "id": "2RevROKUGFOX"
      },
      "source": [
        "### Step 1\n",
        "\n",
        "For each word, we create a **`Query`** vector, a **`Key`** vector, and a **`Value`** vector.\n",
        "\n",
        "![](http://jalammar.github.io/images/t/transformer_self_attention_vectors.png)"
      ]
    },
    {
      "cell_type": "code",
      "execution_count": null,
      "metadata": {
        "id": "YDahLOTBDVDP"
      },
      "outputs": [],
      "source": [
        "# simple sequence = I am here today\n",
        "simple_sequence_embedding = torch.rand(( 4, 512))\n",
        "\n",
        "# Create weight matrices\n",
        "W_k, W_v, W_q = torch.normal(0, 0.1, (3, 512, 7))\n",
        "\n",
        "# Create key, query and value for each word in the senetence\n",
        "keys = simple_sequence_embedding @ W_k\n",
        "values = simple_sequence_embedding @ W_v\n",
        "queries = simple_sequence_embedding @ W_q"
      ]
    },
    {
      "cell_type": "code",
      "execution_count": null,
      "metadata": {
        "colab": {
          "base_uri": "https://localhost:8080/"
        },
        "id": "a2dceawSN2PQ",
        "outputId": "f8f8d1f3-d231-4735-e7dd-c5d109301f43"
      },
      "outputs": [
        {
          "output_type": "execute_result",
          "data": {
            "text/plain": [
              "tensor([[ 0.2276, -1.4653,  0.7111,  1.1006, -0.6690,  3.5245,  0.6591],\n",
              "        [-1.8327, -0.3299, -0.0965,  1.1251,  0.3615,  1.6877,  0.2623],\n",
              "        [-1.5825, -0.2237,  0.8040,  1.7383, -1.0828,  1.7392,  0.3550],\n",
              "        [-0.1077, -0.4872,  0.7023,  0.8926,  0.2044,  0.8951,  0.1703]])"
            ]
          },
          "metadata": {},
          "execution_count": 96
        }
      ],
      "source": [
        "queries"
      ]
    },
    {
      "cell_type": "code",
      "execution_count": null,
      "metadata": {
        "colab": {
          "base_uri": "https://localhost:8080/"
        },
        "id": "FhXQl2p8Nzp_",
        "outputId": "c11abbe5-8350-4a02-cf58-b762a6b57061"
      },
      "outputs": [
        {
          "output_type": "execute_result",
          "data": {
            "text/plain": [
              "tensor([[0.3371, 0.4011, 0.6598,  ..., 0.8202, 0.7766, 0.7869],\n",
              "        [0.4986, 0.4135, 0.9754,  ..., 0.9567, 0.1487, 0.7978],\n",
              "        [0.3638, 0.9830, 0.6659,  ..., 0.7042, 0.2075, 0.9717],\n",
              "        [0.6925, 0.3755, 0.2811,  ..., 0.9970, 0.9085, 0.6525]])"
            ]
          },
          "metadata": {},
          "execution_count": 97
        }
      ],
      "source": [
        "simple_sequence_embedding"
      ]
    },
    {
      "cell_type": "markdown",
      "metadata": {
        "id": "gueARUu0KFVm"
      },
      "source": [
        "## Step 2\n",
        "\n",
        "Calculating self-attention score from **`Query`** and **`Key`** vector"
      ]
    },
    {
      "cell_type": "code",
      "execution_count": null,
      "metadata": {
        "colab": {
          "base_uri": "https://localhost:8080/"
        },
        "id": "6TwUclKXLN14",
        "outputId": "9b8d9e6b-5d1c-4c9e-c9ab-1df117e100ab"
      },
      "outputs": [
        {
          "output_type": "execute_result",
          "data": {
            "text/plain": [
              "tensor([[-5.0016, -2.4316,  0.3968, -0.2446],\n",
              "        [ 3.0838,  3.2170,  6.6662,  4.4395],\n",
              "        [-4.4791, -1.1210,  0.4245,  0.2488],\n",
              "        [ 0.5970,  2.1744,  2.3622,  1.9029]])"
            ]
          },
          "metadata": {},
          "execution_count": 98
        }
      ],
      "source": [
        "scores = queries @ keys.T\n",
        "scores"
      ]
    },
    {
      "cell_type": "markdown",
      "metadata": {
        "id": "FZugp0egQEPQ"
      },
      "source": [
        "## Step 3\n",
        "Divide the scores by 8 (This leads to having more stable gradients)"
      ]
    },
    {
      "cell_type": "code",
      "execution_count": null,
      "metadata": {
        "colab": {
          "base_uri": "https://localhost:8080/"
        },
        "id": "gA1G9MmeQPuP",
        "outputId": "2a6a03af-ed74-451f-8bad-2f1cd138921c"
      },
      "outputs": [
        {
          "output_type": "execute_result",
          "data": {
            "text/plain": [
              "tensor([[-0.6252, -0.3040,  0.0496, -0.0306],\n",
              "        [ 0.3855,  0.4021,  0.8333,  0.5549],\n",
              "        [-0.5599, -0.1401,  0.0531,  0.0311],\n",
              "        [ 0.0746,  0.2718,  0.2953,  0.2379]])"
            ]
          },
          "metadata": {},
          "execution_count": 99
        }
      ],
      "source": [
        "scores = scores / 8\n",
        "scores"
      ]
    },
    {
      "cell_type": "markdown",
      "metadata": {
        "id": "a-MZsAkWQWlp"
      },
      "source": [
        "## Step 4\n",
        "\n",
        "Pass the result through a softmax operation"
      ]
    },
    {
      "cell_type": "code",
      "execution_count": null,
      "metadata": {
        "colab": {
          "base_uri": "https://localhost:8080/"
        },
        "id": "0_hpI-SNKqAA",
        "outputId": "4c068f36-14e7-4bdb-e5c9-9482bfc94fd0"
      },
      "outputs": [
        {
          "output_type": "execute_result",
          "data": {
            "text/plain": [
              "tensor([[0.1625, 0.2240, 0.3190, 0.2945],\n",
              "        [0.2098, 0.2133, 0.3283, 0.2486],\n",
              "        [0.1620, 0.2465, 0.2990, 0.2925],\n",
              "        [0.2154, 0.2624, 0.2686, 0.2536]])"
            ]
          },
          "metadata": {},
          "execution_count": 100
        }
      ],
      "source": [
        "scores = torch.softmax(scores, dim = 1)\n",
        "scores"
      ]
    },
    {
      "cell_type": "markdown",
      "metadata": {
        "id": "HskCcOiRQlam"
      },
      "source": [
        "## Step 5 & 6\n",
        "\n",
        "* Multiply each value vector by the softmax score\n",
        "* Sum up the weighted value vectors\n",
        "\n"
      ]
    },
    {
      "cell_type": "code",
      "execution_count": null,
      "metadata": {
        "colab": {
          "base_uri": "https://localhost:8080/"
        },
        "id": "aT3lZwy4TLK1",
        "outputId": "22fa93b8-2d0d-48cf-b910-23a4895e37bb"
      },
      "outputs": [
        {
          "output_type": "execute_result",
          "data": {
            "text/plain": [
              "(torch.Size([4, 4]), torch.Size([4, 7]))"
            ]
          },
          "metadata": {},
          "execution_count": 101
        }
      ],
      "source": [
        "scores.shape, values.shape"
      ]
    },
    {
      "cell_type": "code",
      "execution_count": null,
      "metadata": {
        "colab": {
          "base_uri": "https://localhost:8080/"
        },
        "id": "wDsYOfEnHWVq",
        "outputId": "2ba6ef69-a193-4bf6-838f-b683f2f9a2ab"
      },
      "outputs": [
        {
          "output_type": "execute_result",
          "data": {
            "text/plain": [
              "tensor([[-1.0859,  2.4785, -0.8251,  0.2181, -0.3534, -1.0101,  0.9283],\n",
              "        [-1.1282,  2.5314, -0.7973,  0.2624, -0.2797, -1.0180,  0.9657],\n",
              "        [-1.0696,  2.4955, -0.8386,  0.2124, -0.3556, -1.0174,  0.9108],\n",
              "        [-1.0750,  2.5436, -0.8420,  0.2492, -0.2894, -1.0248,  0.9192]])"
            ]
          },
          "metadata": {},
          "execution_count": 102
        }
      ],
      "source": [
        "z = scores @ values\n",
        "z"
      ]
    },
    {
      "cell_type": "markdown",
      "metadata": {
        "id": "tbCd2yNhzGv5"
      },
      "source": [
        "# Multi-headed attention\n",
        "\n",
        "**GOAL**:\n",
        "1. Expand the model’s ability to focus on different positions\n",
        "2. Provide the attention layer multiple “representation subspaces”\n",
        "\n",
        "**Attention with $N$ just means repeating self attention algorithm $N$ times and joining the results**\n",
        "\n",
        "\n",
        "![](https://data-science-blog.com/wp-content/uploads/2022/01/mha_img_original.png)\n",
        "\n",
        "**Multi-headed attention steps:**\n",
        "1. Same as self-attention calculation, just n different times with different weight matrices\n",
        "2. Condense the $N$ z metrices down into a single matrix by concatinating the matrices then multiply them by an additional weights matrix `WO`\n",
        "\n",
        "Now the output z metrix is fed to the FFNN"
      ]
    },
    {
      "cell_type": "code",
      "execution_count": null,
      "metadata": {
        "id": "99lM0p2IUd2k"
      },
      "outputs": [],
      "source": [
        "from torch import Tensor\n",
        "import torch.nn.functional as f\n",
        "\n",
        "\n",
        "def scaled_dot_product_attention(query, key, value):\n",
        "  temp = query.bmm(key.transpose(1, 2))\n",
        "  scale = query.size(-1) ** 0.5\n",
        "  softmax = f.softmax(temp / scale, dim=-1)\n",
        "  return softmax.bmm(value)"
      ]
    },
    {
      "cell_type": "markdown",
      "metadata": {
        "id": "Sph09F-Qdlw1"
      },
      "source": [
        "## Now lets make attention head"
      ]
    },
    {
      "cell_type": "code",
      "execution_count": null,
      "metadata": {
        "id": "MfKQevaDdrQu"
      },
      "outputs": [],
      "source": [
        "class AttentionHead(nn.Module):\n",
        "  def __init__(self, dim_in, dim_q, dim_k):\n",
        "    super().__init__()\n",
        "    self.q = nn.Linear(dim_in, dim_q)\n",
        "    self.k = nn.Linear(dim_in, dim_k)\n",
        "    self.v = nn.Linear(dim_in, dim_k)\n",
        "\n",
        "  def forward(self, query, key, value):\n",
        "    return scaled_dot_product_attention(self.q(query), self.k(key), self.v(value))"
      ]
    },
    {
      "cell_type": "markdown",
      "metadata": {
        "id": "ig3CKeuseEOs"
      },
      "source": [
        "## Multi Head Attention"
      ]
    },
    {
      "cell_type": "code",
      "execution_count": null,
      "metadata": {
        "id": "L_kYFonCeD-y"
      },
      "outputs": [],
      "source": [
        "class MultiHeadAttention(nn.Module):\n",
        "  def __init__(self, number_of_heads, dim_in, dim_q, dim_k):\n",
        "    super().__init__()\n",
        "    self.heads = nn.ModuleList([AttentionHead(dim_in, dim_q, dim_k) for _ in range(number_of_heads)])\n",
        "    self.linear = nn.Linear(number_of_heads * dim_k, dim_in)\n",
        "\n",
        "  def forward(self, query: Tensor, key: Tensor, value: Tensor):\n",
        "    z = self.linear(torch.cat([h(query, key, value) for h in self.heads], dim=-1))\n",
        "    return z"
      ]
    },
    {
      "cell_type": "markdown",
      "metadata": {
        "id": "nk0KG1p0UeSV"
      },
      "source": [
        "## Positional Encoding\n",
        "\n",
        "A way to account for the order of the words in the input sequence. A transformer adds a vector to each input embedding which helps it determine the position of each word. <br>\n",
        "**Goal** : preserving information about the order of tokens  \n",
        "\n",
        "Positional Encoding they can either be learned or fixed a priori.\n",
        "\n",
        "Proposed approach from original paper : describe a simple scheme for fixed positional encodings based on sine and cosine functions\n",
        "\n",
        "![](https://miro.medium.com/v2/resize:fit:640/format:webp/1*C3a9RL6-SFC6fW8NGpJg5A.png)"
      ]
    },
    {
      "cell_type": "code",
      "execution_count": null,
      "metadata": {
        "id": "q_AGKKflld67"
      },
      "outputs": [],
      "source": [
        "def position_encoding(seq_len, dim_model, device):\n",
        "  pos = torch.arange(seq_len, dtype=torch.float, device=device).reshape(1, -1, 1)\n",
        "  dim = torch.arange(dim_model, dtype=torch.float, device=device).reshape(1, 1, -1)\n",
        "  phase = pos / (1e4 ** (dim / dim_model))\n",
        "\n",
        "  return torch.where(dim.long() % 2 == 0, torch.sin(phase), torch.cos(phase))"
      ]
    },
    {
      "cell_type": "markdown",
      "metadata": {
        "id": "zB6Z4v4dnlYk"
      },
      "source": [
        "## Encoder Feed Forward"
      ]
    },
    {
      "cell_type": "code",
      "execution_count": null,
      "metadata": {
        "id": "19MLi_k0nuZr"
      },
      "outputs": [],
      "source": [
        "def feed_forward(dim_input = 512, dim_feedforward = 2048):\n",
        "  return nn.Sequential(nn.Linear(dim_input, dim_feedforward),\n",
        "                       nn.ReLU(),\n",
        "                       nn.Linear(dim_feedforward, dim_input)\n",
        "                       )"
      ]
    },
    {
      "cell_type": "markdown",
      "metadata": {
        "id": "ctJcODqZoNjm"
      },
      "source": [
        "## Encoder Residual\n",
        "\n",
        "From the original paper the author implementation"
      ]
    },
    {
      "cell_type": "code",
      "execution_count": null,
      "metadata": {
        "id": "Z3jxUDJxoJrh"
      },
      "outputs": [],
      "source": [
        "class Residual(nn.Module):\n",
        "  def __init__(self, sublayer, dimension, dropout = 0.1):\n",
        "    super().__init__()\n",
        "    self.sublayer = sublayer\n",
        "    self.norm = nn.LayerNorm(dimension)\n",
        "    self.dropout = nn.Dropout(dropout)\n",
        "\n",
        "  def forward(self, *tensors):\n",
        "    # Assumption : query tensor is given first\n",
        "    return self.norm(tensors[0] + self.dropout(self.sublayer(*tensors)))"
      ]
    },
    {
      "cell_type": "markdown",
      "metadata": {
        "id": "rbO7zQf6Z6oC"
      },
      "source": [
        "## Putting all together on decoder side\n",
        "\n",
        "![](http://jalammar.github.io/images/t/transformer_resideual_layer_norm_2.png)"
      ]
    },
    {
      "cell_type": "markdown",
      "metadata": {
        "id": "N_IWAB7fpdnX"
      },
      "source": [
        "## Putting the Encoder layer together"
      ]
    },
    {
      "cell_type": "code",
      "execution_count": null,
      "metadata": {
        "id": "6mclItDepir9"
      },
      "outputs": [],
      "source": [
        "class TransformerEncoderLayer(nn.Module):\n",
        "  def __init__(self, dim_model = 512, num_heads = 6, dim_feedforward = 2048, dropout = 0.1):\n",
        "    super().__init__()\n",
        "    dim_q = dim_k = max(dim_model // num_heads, 1)\n",
        "    self.attention = Residual(MultiHeadAttention(num_heads, dim_model, dim_q, dim_k),\n",
        "                              imension=dim_model, dropout=dropout)\n",
        "    self.feed_forward = Residual(\n",
        "        feed_forward(dim_model, dim_feedforward),\n",
        "        dimension=dim_model, dropout=dropout)\n",
        "\n",
        "  def forward(self, src):\n",
        "    src = self.attention(src, src, src)\n",
        "    return self.feed_forward(src)"
      ]
    },
    {
      "cell_type": "markdown",
      "metadata": {
        "id": "HfQ17Qy2pubd"
      },
      "source": [
        "## Putting together transfomer Encoder part"
      ]
    },
    {
      "cell_type": "code",
      "execution_count": null,
      "metadata": {
        "id": "kwXf_WW-puz_"
      },
      "outputs": [],
      "source": [
        "class TransformerEncoder(nn.Module):\n",
        "  def __init__(self, num_layers = 12, dim_model = 512, num_heads = 4, dim_feedforward = 2048,\n",
        "               dropout: float = 0.1):\n",
        "    super().__init__()\n",
        "    self.layers = nn.ModuleList([TransformerEncoderLayer(dim_model, num_heads, dim_feedforward, dropout) for _ in range(num_layers) ])\n",
        "\n",
        "  def forward(self, src):\n",
        "    seq_len, dimension = src.size(1), src.size(2)\n",
        "    src += position_encoding(seq_len, dimension)\n",
        "    for layer in self.layers:\n",
        "      src = layer(src)\n",
        "\n",
        "    return src"
      ]
    },
    {
      "cell_type": "markdown",
      "metadata": {
        "id": "T9iOQWX8aQn9"
      },
      "source": [
        "# The Decoder Side\n",
        "\n",
        "The encoder start by processing the input sequence. The output of the top encoder is then transformed into a set of attention vectors K and V. These are to be used by each decoder.\n",
        "\n",
        "\n",
        "![](https://media.arxiv-vanity.com/render-output/6494154/Figures/ModalNet-21.png)"
      ]
    },
    {
      "cell_type": "markdown",
      "metadata": {
        "id": "ehLixHKossPK"
      },
      "source": [
        "## Decoder layer\n",
        "\n",
        "**Task**: implement the decoder layer"
      ]
    },
    {
      "cell_type": "code",
      "execution_count": null,
      "metadata": {
        "id": "D8Kpvt0Gsxiq",
        "colab": {
          "base_uri": "https://localhost:8080/",
          "height": 144
        },
        "outputId": "ec4d13ca-712e-4834-cc76-40f0601237ae"
      },
      "outputs": [
        {
          "output_type": "error",
          "ename": "SyntaxError",
          "evalue": "ignored",
          "traceback": [
            "\u001b[0;36m  File \u001b[0;32m\"<ipython-input-111-6ca949dec54d>\"\u001b[0;36m, line \u001b[0;32m2\u001b[0m\n\u001b[0;31m    def __init__(self, ... ):\u001b[0m\n\u001b[0m                       ^\u001b[0m\n\u001b[0;31mSyntaxError\u001b[0m\u001b[0;31m:\u001b[0m invalid syntax\n"
          ]
        }
      ],
      "source": [
        "class TransformerDecoderLayer(nn.Module):\n",
        "  def __init__(self, ... ):\n",
        "    super().__init__()\n",
        "    pass\n",
        "\n",
        "  def forward(self):\n",
        "    pass"
      ]
    },
    {
      "cell_type": "markdown",
      "metadata": {
        "id": "6g8J94rHsusT"
      },
      "source": [
        "## Full Transfomer Decoder\n",
        "\n",
        "**Task**: implement the transfomer decoder part class"
      ]
    },
    {
      "cell_type": "code",
      "execution_count": null,
      "metadata": {
        "id": "EnXSvVUUs4sy"
      },
      "outputs": [],
      "source": [
        "class TransformerDecoder(nn.Module):\n",
        "  def __init__(self, num_layers = 12, dim_model = 512, num_heads = 4, dim_feedforward = 2048,\n",
        "               dropout: float = 0.1):\n",
        "    super().__init__()\n",
        "    self.layers = nn.ModuleList([TransformerDecoderLayer(dim_model, num_heads, dim_feedforward, dropout) for _ in range(num_layers) ])\n",
        "\n",
        "  def forward(self, src):\n",
        "    seq_len, dimension = src.size(1), src.size(2)\n",
        "    src += position_encoding(seq_len, dimension)\n",
        "    for layer in self.layers:\n",
        "      src = layer(src)\n",
        "\n",
        "    return src"
      ]
    },
    {
      "cell_type": "markdown",
      "metadata": {
        "id": "B-6Uav2htlEF"
      },
      "source": [
        "## Full Transfomer model\n",
        "\n",
        "**Task**: Assembly a full transfomer (Encoder + Decoder)"
      ]
    },
    {
      "cell_type": "code",
      "execution_count": null,
      "metadata": {
        "id": "UzfY-uEmtppU"
      },
      "outputs": [],
      "source": [
        "class Transfomer(nn.Module):\n",
        "  def __init__(self, ... ):\n",
        "    super().__init__()\n",
        "    pass\n",
        "\n",
        "  def forward(self):\n",
        "    pass"
      ]
    }
  ],
  "metadata": {
    "accelerator": "GPU",
    "colab": {
      "provenance": []
    },
    "gpuClass": "standard",
    "kernelspec": {
      "display_name": "Python 3",
      "name": "python3"
    },
    "language_info": {
      "name": "python"
    }
  },
  "nbformat": 4,
  "nbformat_minor": 0
}